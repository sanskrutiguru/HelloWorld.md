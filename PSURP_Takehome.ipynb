{
  "nbformat": 4,
  "nbformat_minor": 0,
  "metadata": {
    "colab": {
      "provenance": [],
      "authorship_tag": "ABX9TyMb+sZii6t2xUKHCJXe6MWY",
      "include_colab_link": true
    },
    "kernelspec": {
      "name": "ir",
      "display_name": "R"
    },
    "language_info": {
      "name": "R"
    }
  },
  "cells": [
    {
      "cell_type": "markdown",
      "metadata": {
        "id": "view-in-github",
        "colab_type": "text"
      },
      "source": [
        "<a href=\"https://colab.research.google.com/github/sanskrutiguru/HelloWorld.md/blob/master/PSURP_Takehome.ipynb\" target=\"_parent\"><img src=\"https://colab.research.google.com/assets/colab-badge.svg\" alt=\"Open In Colab\"/></a>"
      ]
    },
    {
      "cell_type": "code",
      "execution_count": null,
      "metadata": {
        "colab": {
          "base_uri": "https://localhost:8080/",
          "height": 104
        },
        "id": "bUHMzKviCvyM",
        "outputId": "c201f26a-7c67-436f-ca1c-5933137ba501"
      },
      "outputs": [
        {
          "output_type": "display_data",
          "data": {
            "text/html": [
              "0.461538461538462"
            ],
            "text/markdown": "0.461538461538462",
            "text/latex": "0.461538461538462",
            "text/plain": [
              "[1] 0.4615385"
            ]
          },
          "metadata": {}
        },
        {
          "output_type": "display_data",
          "data": {
            "text/html": [
              "0.24"
            ],
            "text/markdown": "0.24",
            "text/latex": "0.24",
            "text/plain": [
              "[1] 0.24"
            ]
          },
          "metadata": {}
        },
        {
          "output_type": "display_data",
          "data": {
            "text/html": [
              "0.369230769230769"
            ],
            "text/markdown": "0.369230769230769",
            "text/latex": "0.369230769230769",
            "text/plain": [
              "[1] 0.3692308"
            ]
          },
          "metadata": {}
        },
        {
          "output_type": "display_data",
          "data": {
            "text/html": [
              "FALSE"
            ],
            "text/markdown": "FALSE",
            "text/latex": "FALSE",
            "text/plain": [
              "[1] FALSE"
            ]
          },
          "metadata": {}
        },
        {
          "output_type": "display_data",
          "data": {
            "text/html": [
              "0.4675"
            ],
            "text/markdown": "0.4675",
            "text/latex": "0.4675",
            "text/plain": [
              "[1] 0.4675"
            ]
          },
          "metadata": {}
        }
      ],
      "source": [
        "#Q1\n",
        "#a\n",
        "Prob_SI<- 0.75\n",
        "Prob_I <- 0.40\n",
        "Prob_S <- 0.65\n",
        "Prob_IS <- (Prob_SI* Prob_I) / Prob_S\n",
        "Prob_IS\n",
        "\n",
        "\n",
        "#b\n",
        "Prob_FV <- 0.30\n",
        "Prob_BFV <- 0.80\n",
        "Prob_FVB <- Prob_BFV * Prob_FV\n",
        "Prob_FVB\n",
        "\n",
        "#c\n",
        "Prob_FV <- 0.30\n",
        "Prob_BFV <- 0.80\n",
        "Prob_S <- 0.65\n",
        "Prob_FS <- (Prob_BFV * Prob_FV ) / Prob_S\n",
        "Prob_FS\n",
        "\n",
        "#d\n",
        "Prob_BFV <- 0.80\n",
        "Prob_S <- 0.65\n",
        "Prob_FV <- 0.30\n",
        "independent <- (Prob_BFV == (Prob_S *Prob_FV))\n",
        "independent\n",
        "\n",
        "\n",
        "#e\n",
        "P_AB <-0.85\n",
        "P_B <-0.55\n",
        "Prob_AandB<-(P_AB * P_B)\n",
        "Prob_AandB\n"
      ]
    },
    {
      "cell_type": "markdown",
      "source": [],
      "metadata": {
        "id": "XovtDsVoC_p0"
      }
    },
    {
      "cell_type": "code",
      "source": [
        "#Q2\n",
        "#a\n",
        "lam<- 1 / 7\n",
        "time <- 5\n",
        "avg_monsoon <- time*lam\n",
        "avg_monsoon\n",
        "\n",
        "#b\n",
        "time2 <- 20\n",
        "mean <- lam * time2\n",
        "P_atleast3 <- 1 - ppois(2, mean)\n",
        "P_atleast3\n",
        "\n",
        "#c\n",
        "time3 <- 2\n",
        "P_next2 <- 1 - exp(-lam * time3)\n",
        "P_next2\n",
        "\n",
        "#d\n",
        "#same as c\n",
        "\n",
        "#e\n",
        "set.seed(123)\n",
        "\n",
        "time_mean <- 7\n",
        "loss_mean <- 15\n",
        "loss_sd <- 3\n",
        "time_years <- 40\n",
        "nsim<- 10000\n",
        "\n",
        "simulate_total_losses <- function(years, lam, loss_mean, loss_sd) {\n",
        "\n",
        "  num_events <- sapply(1:10000, function(x) {\n",
        "    times_s <- rexp(100, rate = lam)\n",
        "    times_cumulative <- cumsum(times_s)\n",
        "    sum(times_cumulative <= years)\n",
        "  })\n",
        "\n",
        "  total_losses <- sapply(num_events, function(events) {\n",
        "    losses <- rnorm(events, mean = loss_mean, sd = loss_sd)\n",
        "    sum(losses)\n",
        "  })\n",
        "\n",
        "  return(total_losses)\n",
        "}\n",
        "\n",
        "total_losses <- simulate_total_losses(time_years, lam, loss_mean, loss_sd)\n",
        "\n",
        "percentile_90 <- quantile(total_losses, 0.90)\n",
        "percentile_90\n"
      ],
      "metadata": {
        "colab": {
          "base_uri": "https://localhost:8080/",
          "height": 86
        },
        "id": "Dn7UGUN9C6sI",
        "outputId": "040e1478-db3f-4873-d9c1-2a06804ff7c2"
      },
      "execution_count": 3,
      "outputs": [
        {
          "output_type": "display_data",
          "data": {
            "text/html": [
              "0.714285714285714"
            ],
            "text/markdown": "0.714285714285714",
            "text/latex": "0.714285714285714",
            "text/plain": [
              "[1] 0.7142857"
            ]
          },
          "metadata": {}
        },
        {
          "output_type": "display_data",
          "data": {
            "text/html": [
              "0.544055328671364"
            ],
            "text/markdown": "0.544055328671364",
            "text/latex": "0.544055328671364",
            "text/plain": [
              "[1] 0.5440553"
            ]
          },
          "metadata": {}
        },
        {
          "output_type": "display_data",
          "data": {
            "text/html": [
              "0.248522706924714"
            ],
            "text/markdown": "0.248522706924714",
            "text/latex": "0.248522706924714",
            "text/plain": [
              "[1] 0.2485227"
            ]
          },
          "metadata": {}
        },
        {
          "output_type": "display_data",
          "data": {
            "text/html": [
              "<strong>90%:</strong> 133.579175911034"
            ],
            "text/markdown": "**90%:** 133.579175911034",
            "text/latex": "\\textbf{90\\textbackslash{}\\%:} 133.579175911034",
            "text/plain": [
              "     90% \n",
              "133.5792 "
            ]
          },
          "metadata": {}
        }
      ]
    }
  ]
}